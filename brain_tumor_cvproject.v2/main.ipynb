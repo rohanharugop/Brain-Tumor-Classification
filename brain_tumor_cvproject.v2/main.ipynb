{
 "cells": [
  {
   "cell_type": "code",
   "execution_count": null,
   "metadata": {},
   "outputs": [],
   "source": []
  },
  {
   "cell_type": "code",
   "execution_count": 6,
   "metadata": {},
   "outputs": [
    {
     "name": "stdout",
     "output_type": "stream",
     "text": [
      "Model loaded successfully.\n"
     ]
    },
    {
     "ename": "NameError",
     "evalue": "name 'X_test' is not defined",
     "output_type": "error",
     "traceback": [
      "\u001b[1;31m---------------------------------------------------------------------------\u001b[0m",
      "\u001b[1;31mNameError\u001b[0m                                 Traceback (most recent call last)",
      "Cell \u001b[1;32mIn[6], line 11\u001b[0m\n\u001b[0;32m      8\u001b[0m \u001b[38;5;66;03m# Load your test dataset\u001b[39;00m\n\u001b[0;32m      9\u001b[0m \u001b[38;5;66;03m# Assuming X_test, y_test, and CLASSES are defined somewhere in your main.py\u001b[39;00m\n\u001b[0;32m     10\u001b[0m image_index \u001b[38;5;241m=\u001b[39m \u001b[38;5;241m1\u001b[39m  \u001b[38;5;66;03m# Index of the image to predict\u001b[39;00m\n\u001b[1;32m---> 11\u001b[0m predict_from_dataset(image_index, \u001b[43mX_test\u001b[49m, y_test, loaded_model, CLASSES)\n",
      "\u001b[1;31mNameError\u001b[0m: name 'X_test' is not defined"
     ]
    }
   ],
   "source": [
    "from tensorflow.keras.models import load_model\n",
    "from model_utils import predict_from_dataset  # Import the function\n",
    "\n",
    "# Load model\n",
    "loaded_model = load_model(\"Trained_brain_tumer_classifier.h5\")\n",
    "print(\"Model loaded successfully.\")\n",
    "\n",
    "# Load your test dataset\n",
    "# Assuming X_test, y_test, and CLASSES are defined somewhere in your main.py\n",
    "image_index = 1  # Index of the image to predict\n",
    "predict_from_dataset(image_index, X_test, y_test, loaded_model, CLASSES)\n"
   ]
  }
 ],
 "metadata": {
  "kernelspec": {
   "display_name": "cvprojects",
   "language": "python",
   "name": "python3"
  },
  "language_info": {
   "codemirror_mode": {
    "name": "ipython",
    "version": 3
   },
   "file_extension": ".py",
   "mimetype": "text/x-python",
   "name": "python",
   "nbconvert_exporter": "python",
   "pygments_lexer": "ipython3",
   "version": "3.10.13"
  }
 },
 "nbformat": 4,
 "nbformat_minor": 2
}
